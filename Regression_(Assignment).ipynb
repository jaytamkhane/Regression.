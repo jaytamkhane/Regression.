{
  "nbformat": 4,
  "nbformat_minor": 0,
  "metadata": {
    "colab": {
      "provenance": []
    },
    "kernelspec": {
      "name": "python3",
      "display_name": "Python 3"
    },
    "language_info": {
      "name": "python"
    }
  },
  "cells": [
    {
      "cell_type": "markdown",
      "source": [
        "# Regression Assignment"
      ],
      "metadata": {
        "id": "MCwI69G4bXZl"
      }
    },
    {
      "cell_type": "markdown",
      "source": [
        "#### 1)  What is Simple Linear Regression ?"
      ],
      "metadata": {
        "id": "oGU4DcQRbfdX"
      }
    },
    {
      "cell_type": "markdown",
      "source": [
        "Simple linear regression is a statistical method that uses a straight line to model the relationship between one dependent and one independent variable, aiming to find the best-fit line that minimizes the difference between observed and predicted values."
      ],
      "metadata": {
        "id": "y7hBD7Oyb2Np"
      }
    },
    {
      "cell_type": "markdown",
      "source": [
        "#### 2) What are the key assumptions of Simple Linear Regression ?"
      ],
      "metadata": {
        "id": "iU3ia6PjbruQ"
      }
    },
    {
      "cell_type": "markdown",
      "source": [
        " A linear relationship between variables, independent and normally distributed errors with constant variance (homoscedasticity), and no multicollinearity."
      ],
      "metadata": {
        "id": "mEJfPexwbrrk"
      }
    },
    {
      "cell_type": "markdown",
      "source": [
        "#### 3) What does the coefficient m represent in the equation Y=mX+c ?"
      ],
      "metadata": {
        "id": "iCCCo3XXbrpO"
      }
    },
    {
      "cell_type": "markdown",
      "source": [
        "In the equation Y = mX + c, the coefficient 'm' represents the slope or gradient of the line, indicating its steepness or inclination."
      ],
      "metadata": {
        "id": "3PeOF9FUbrmL"
      }
    },
    {
      "cell_type": "markdown",
      "source": [
        "#### 4) What does the intercept c represent in the equation Y=mX+c ?"
      ],
      "metadata": {
        "id": "Dj43XNLobrj5"
      }
    },
    {
      "cell_type": "markdown",
      "source": [
        "The value of c in the equation y = mx + c represents the y-intercept of the line. The intercept is the distance from the origin on the y-axis, where this line cuts the y-axis."
      ],
      "metadata": {
        "id": "lomXWBdUbrgr"
      }
    },
    {
      "cell_type": "markdown",
      "source": [
        "#### 5) How do we calculate the slope m in Simple Linear Regression ?"
      ],
      "metadata": {
        "id": "x5sHEiHebrei"
      }
    },
    {
      "cell_type": "markdown",
      "source": [
        "In simple linear regression, the slope \"m\" is calculated using the formula: m = (nΣ(xy) - ΣxΣy) / (nΣ(x²) - (Σx)²), where 'n' is the sample size, Σx is the sum of x values, Σy is the sum of y values, Σ(xy) is the sum of the products of x and y, and Σ(x²) is the sum of the squares of x values."
      ],
      "metadata": {
        "id": "fBqPBakLbrZs"
      }
    },
    {
      "cell_type": "markdown",
      "source": [
        "#### 6) What is the purpose of the least squares method in Simple Linear Regression ?"
      ],
      "metadata": {
        "id": "lfbQCwx0brWN"
      }
    },
    {
      "cell_type": "markdown",
      "source": [
        "The least squares method in simple linear regression aims to find the line of best fit, or regression line, by minimizing the sum of the squared differences (residuals) between the observed data points and the values predicted by the line."
      ],
      "metadata": {
        "id": "5qgLgt65brUK"
      }
    },
    {
      "cell_type": "markdown",
      "source": [
        "#### 7)  How is the coefficient of determination (R²) interpreted in Simple Linear Regression ?"
      ],
      "metadata": {
        "id": "vIWkLvgebrRM"
      }
    },
    {
      "cell_type": "markdown",
      "source": [
        "In simple linear regression, the coefficient of determination (R²) indicates the proportion of variance in the dependent variable (Y) that is predicted or explained by the independent variable (X), ranging from 0 to 1 (or 0% to 100%)."
      ],
      "metadata": {
        "id": "VzL5D7T4brO_"
      }
    },
    {
      "cell_type": "markdown",
      "source": [
        "#### 8) What is Multiple Linear Regression ?"
      ],
      "metadata": {
        "id": "bZslQHB0brMJ"
      }
    },
    {
      "cell_type": "markdown",
      "source": [
        "Multiple linear regression is a statistical technique used to model the relationship between a dependent variable and two or more independent variables, aiming to predict the outcome based on multiple factors."
      ],
      "metadata": {
        "id": "m7sTyDOCbrKQ"
      }
    },
    {
      "cell_type": "markdown",
      "source": [
        "#### 9)  What is the main difference between Simple and Multiple Linear Regression ?"
      ],
      "metadata": {
        "id": "5HHqX7VzbrH8"
      }
    },
    {
      "cell_type": "markdown",
      "source": [
        "The primary difference between simple and multiple linear regression lies in the number of independent (predictor) variables used in the model: simple regression uses one, while multiple regression uses two or more."
      ],
      "metadata": {
        "id": "bsgmgAIZbrEx"
      }
    },
    {
      "cell_type": "markdown",
      "source": [
        "#### 10) What are the key assumptions of Multiple Linear Regression ?"
      ],
      "metadata": {
        "id": "odzXVhDcbrBj"
      }
    },
    {
      "cell_type": "markdown",
      "source": [
        "The key assumptions of Multiple Linear Regression are linearity, independence of errors, homoscedasticity (constant variance of errors), and that the errors are normally distributed. It's also assumed that there is no multicollinearity (high correlation) among the independent variables."
      ],
      "metadata": {
        "id": "9adENS-Abq_y"
      }
    },
    {
      "cell_type": "markdown",
      "source": [
        "#### 11)  What is heteroscedasticity, and how does it affect the results of a Multiple Linear Regression model ?"
      ],
      "metadata": {
        "id": "WrwKeDegbq9s"
      }
    },
    {
      "cell_type": "markdown",
      "source": [
        "Heteroscedasticity in multiple linear regression means the variance of the error term is not constant across all levels of the independent variables, causing unreliable standard errors and potentially misleading hypothesis tests."
      ],
      "metadata": {
        "id": "5be2ehsIbq6-"
      }
    },
    {
      "cell_type": "markdown",
      "source": [
        "#### 12) How can you improve a Multiple Linear Regression model with high multicollinearity ?"
      ],
      "metadata": {
        "id": "9LUt_ggBbqwi"
      }
    },
    {
      "cell_type": "markdown",
      "source": [
        "To address multicollinearity in a multiple linear regression model, consider removing or combining highly correlated variables, using regularization techniques (like Ridge or Lasso), or employing dimensionality reduction methods like Principal Component Analysis (PCA)."
      ],
      "metadata": {
        "id": "EHOkc0e7fb_9"
      }
    },
    {
      "cell_type": "markdown",
      "source": [
        "#### 13)  What are some common techniques for transforming categorical variables for use in regression models ?"
      ],
      "metadata": {
        "id": "Ozcjzdvefj01"
      }
    },
    {
      "cell_type": "markdown",
      "source": [
        "To prepare categorical variables for regression models, common techniques include (1) one-hot encoding (or dummy coding), (2) label encoding, and (3) ordinal encoding."
      ],
      "metadata": {
        "id": "LsC5esFCfwVl"
      }
    },
    {
      "cell_type": "markdown",
      "source": [
        "#### 14) What is the role of interaction terms in Multiple Linear Regression ?"
      ],
      "metadata": {
        "id": "s-Z7EGD8fwTJ"
      }
    },
    {
      "cell_type": "markdown",
      "source": [
        "In Multiple Linear Regression, interaction terms allow you to model how the effect of one independent variable on the dependent variable changes depending on the values of another independent variable, revealing non-additive relationships and potentially improving model accuracy."
      ],
      "metadata": {
        "id": "84czNkahfwPE"
      }
    },
    {
      "cell_type": "markdown",
      "source": [
        "#### 15)  How can the interpretation of intercept differ between Simple and Multiple Linear Regression ?"
      ],
      "metadata": {
        "id": "6_CH4ddWfwLu"
      }
    },
    {
      "cell_type": "markdown",
      "source": [
        "In both simple and multiple linear regression, the intercept represents the predicted value of the dependent variable (Y) when all independent variables (X) are zero. However, in multiple linear regression, this interpretation must be considered in the context of other predictors, whereas in simple regression, the intercept represents the starting point of Y when X is zero."
      ],
      "metadata": {
        "id": "fNOzwlELfwJL"
      }
    },
    {
      "cell_type": "markdown",
      "source": [
        "#### 16)  What is the significance of the slope in regression analysis, and how does it affect predictions ?"
      ],
      "metadata": {
        "id": "kMIej1hjfwG3"
      }
    },
    {
      "cell_type": "markdown",
      "source": [
        "In regression analysis, the slope signifies the average change in the dependent variable (Y) for each one-unit change in the independent variable (X), influencing predictions by determining the direction and magnitude of the relationship."
      ],
      "metadata": {
        "id": "V3j3X3dCfwED"
      }
    },
    {
      "cell_type": "markdown",
      "source": [
        "#### 17)  How does the intercept in a regression model provide context for the relationship between variables ?"
      ],
      "metadata": {
        "id": "3fg1LoePfwBj"
      }
    },
    {
      "cell_type": "markdown",
      "source": [
        "In regression models, the intercept (the point where the regression line crosses the y-axis) provides context for the relationship between variables by representing the expected value of the dependent variable when all independent variables are zero, establishing a baseline or starting point for the relationship."
      ],
      "metadata": {
        "id": "etI70DMtfv-t"
      }
    },
    {
      "cell_type": "markdown",
      "source": [
        "#### 18) What are the limitations of using R² as a sole measure of model performance ?"
      ],
      "metadata": {
        "id": "qw8U1UNzfv8Q"
      }
    },
    {
      "cell_type": "markdown",
      "source": [
        "R² doesn't tell you whether your chosen model is good or bad, nor will it tell you whether the data and predictions are biased. A high or low R-squared isn't necessarily good or bad—it doesn't convey the reliability of the model or whether you've chosen the right regression."
      ],
      "metadata": {
        "id": "46D3Olupfv4M"
      }
    },
    {
      "cell_type": "markdown",
      "source": [
        "#### 19) How would you interpret a large standard error for a regression coefficient ?"
      ],
      "metadata": {
        "id": "KuoamyLbfvp3"
      }
    },
    {
      "cell_type": "markdown",
      "source": [
        "A large standard error for a regression coefficient suggests poor precision in the estimate, meaning the estimated coefficient is likely to be far from the true population value and the coefficient is not statistically significant."
      ],
      "metadata": {
        "id": "xM3mR6vWfvn2"
      }
    },
    {
      "cell_type": "markdown",
      "source": [
        "#### 20) How can heteroscedasticity be identified in residual plots, and why is it important to address it ?"
      ],
      "metadata": {
        "id": "OSeIFdklfvlU"
      }
    },
    {
      "cell_type": "markdown",
      "source": [
        "One of the most common ways of checking for heteroscedasticity is by plotting a graph of the residuals. Visually, if there appears to be a fan or cone shape in the residual plot, it indicates the presence of heteroscedasticity."
      ],
      "metadata": {
        "id": "lly5gu8xfvhx"
      }
    },
    {
      "cell_type": "markdown",
      "source": [
        "#### 21) What does it mean if a Multiple Linear Regression model has a high R² but low adjusted R² ?"
      ],
      "metadata": {
        "id": "-OpFaVXJfvcH"
      }
    },
    {
      "cell_type": "markdown",
      "source": [
        "A high R-squared (R²) with a low adjusted R-squared in a multiple linear regression model suggests that the model might be overfitting and including unnecessary variables that inflate the R², but don't truly improve predictive power."
      ],
      "metadata": {
        "id": "m1RkxLSWiP84"
      }
    },
    {
      "cell_type": "markdown",
      "source": [
        "#### 22) Why is it important to scale variables in Multiple Linear Regression ?"
      ],
      "metadata": {
        "id": "wEZQpZrXiP5V"
      }
    },
    {
      "cell_type": "markdown",
      "source": [
        "Scaling variables (or standardizing them) in Multiple Linear Regression is crucial, especially when dealing with variables on different scales or when using techniques like gradient descent, as it helps improve model performance, interpretability, and numerical stability, and allows for fairer comparison of the contributions of different independent variables."
      ],
      "metadata": {
        "id": "qoL3fYuRiPf7"
      }
    },
    {
      "cell_type": "markdown",
      "source": [
        "#### 23) What is polynomial regression ?"
      ],
      "metadata": {
        "id": "ygUOgiwMiPdE"
      }
    },
    {
      "cell_type": "markdown",
      "source": [
        "Polynomial regression is a machine learning technique that models non-linear relationships between variables. It's an extension of linear regression, which assumes a linear relationship between variables."
      ],
      "metadata": {
        "id": "PEvB5_l0iPaZ"
      }
    },
    {
      "cell_type": "markdown",
      "source": [
        "#### 24) How does polynomial regression differ from linear regression ?"
      ],
      "metadata": {
        "id": "HXfyZvVvjcAE"
      }
    },
    {
      "cell_type": "markdown",
      "source": [
        "Polynomial regression differs from linear regression by its ability to model non-linear relationships between variables by fitting a polynomial equation to the data, while linear regression models a linear relationship with a straight line. While polynomial regression is a type of linear regression (as it is linear in the parameters), it offers more flexibility to capture complex patterns."
      ],
      "metadata": {
        "id": "6JeP6HE1jb7T"
      }
    },
    {
      "cell_type": "markdown",
      "source": [
        "#### 25) When is polynomial regression used ?"
      ],
      "metadata": {
        "id": "iqYja7vRjb4R"
      }
    },
    {
      "cell_type": "markdown",
      "source": [
        "Polynomial regression is used when the relationship between an independent (predictor) and dependent (outcome) variable is not linear and can be better described by a polynomial function (a curve rather than a straight line)."
      ],
      "metadata": {
        "id": "u-v80UoPjb1B"
      }
    },
    {
      "cell_type": "markdown",
      "source": [
        "#### 26) What is the general equation for polynomial regression ?"
      ],
      "metadata": {
        "id": "Pwr-zTVZjbxm"
      }
    },
    {
      "cell_type": "markdown",
      "source": [
        "The general equation for polynomial regression, used to model non-linear relationships between a dependent variable (y) and an independent variable (x), is y = β₀ + β₁x + β₂x² + ... + βₙxⁿ + ε where β₀, β₁, ... βₙ are coefficients and ε is a random error term."
      ],
      "metadata": {
        "id": "OSjw-2CYjbgb"
      }
    },
    {
      "cell_type": "markdown",
      "source": [
        "#### 27)  Can polynomial regression be applied to multiple variables ?"
      ],
      "metadata": {
        "id": "GSnuiUyAjbdf"
      }
    },
    {
      "cell_type": "markdown",
      "source": [
        "Yes, polynomial regression can absolutely be applied to multiple variables, and it's even referred to as \"multivariate polynomial regression\" when it involves multiple independent variables. It allows you to model non-linear relationships and interactions between the input variables and the target variable."
      ],
      "metadata": {
        "id": "dDV3MUJRjbbG"
      }
    },
    {
      "cell_type": "markdown",
      "source": [
        "#### 28) What are the limitations of polynomial regression ?"
      ],
      "metadata": {
        "id": "IgCycERejbXz"
      }
    },
    {
      "cell_type": "markdown",
      "source": [
        "Polynomial regression, while versatile for modeling non-linear relationships, faces limitations like overfitting, computational complexity, and difficulties in extrapolation and interpretation of high-degree polynomials."
      ],
      "metadata": {
        "id": "U9XmgRdKjbT9"
      }
    },
    {
      "cell_type": "markdown",
      "source": [
        "#### 29) What methods can be used to evaluate model fit when selecting the degree of a polynomial ?"
      ],
      "metadata": {
        "id": "JeXDalBTiPXu"
      }
    },
    {
      "cell_type": "markdown",
      "source": [
        "To evaluate the fit of a polynomial model when choosing the degree, you can use cross-validation, visual inspection, or metrics like R-squared or Root Mean Squared Error (RMSE)."
      ],
      "metadata": {
        "id": "s_CLhgKXiPU8"
      }
    },
    {
      "cell_type": "markdown",
      "source": [
        "#### 30) Why is visualization important in polynomial regression ?"
      ],
      "metadata": {
        "id": "AOF_EyBdiPSK"
      }
    },
    {
      "cell_type": "markdown",
      "source": [
        "Visualization is critical in polynomial regression because it allows us to visually assess how well the fitted polynomial curve captures the underlying non-linear relationship in the data and compare it to linear regression."
      ],
      "metadata": {
        "id": "cpfD9u4-iPPa"
      }
    },
    {
      "cell_type": "markdown",
      "source": [
        "#### 31) How is polynomial regression implemented in Python ?"
      ],
      "metadata": {
        "id": "29mW2dbFiPMx"
      }
    },
    {
      "cell_type": "markdown",
      "source": [
        "Polynomial Regression is an extension of Linear Regression where the relationship between independent (x) and dependent (y) variables is modeled as an n-degree polynomial:"
      ],
      "metadata": {
        "id": "cjnHNn2oiPJ-"
      }
    },
    {
      "cell_type": "code",
      "source": [
        "import numpy as np\n",
        "import matplotlib.pyplot as plt\n",
        "from sklearn.preprocessing import PolynomialFeatures\n",
        "from sklearn.linear_model import LinearRegression\n",
        "from sklearn.metrics import mean_squared_error\n",
        "\n",
        "# Generate random data points\n",
        "np.random.seed(42)\n",
        "X = np.linspace(0, 10, 50).reshape(-1, 1)  # Independent variable\n",
        "y = 3 * X**2 + 2 * X + np.random.randn(50, 1) * 10  # Quadratic relationship with noise\n",
        "\n",
        "# Convert X to polynomial features of degree 2\n",
        "poly = PolynomialFeatures(degree=2)\n",
        "X_poly = poly.fit_transform(X)\n",
        "\n",
        "# Fit a linear regression model on the transformed polynomial features\n",
        "model = LinearRegression()\n",
        "model.fit(X_poly, y)\n",
        "\n",
        "# Predictions\n",
        "y_pred = model.predict(X_poly)\n",
        "\n",
        "plt.scatter(X, y, color='blue', label=\"Actual Data\")\n",
        "plt.plot(X, y_pred, color='red', linewidth=2, label=\"Polynomial Regression Fit\")\n",
        "plt.xlabel(\"X\")\n",
        "plt.ylabel(\"y\")\n",
        "plt.legend()\n",
        "plt.title(\"Polynomial Regression (Degree 2)\")\n",
        "plt.show()\n",
        "\n",
        "mse = mean_squared_error(y, y_pred)\n",
        "print(f\"Mean Squared Error: {mse:.2f}\")"
      ],
      "metadata": {
        "colab": {
          "base_uri": "https://localhost:8080/",
          "height": 489
        },
        "id": "GYheaJUWlrbg",
        "outputId": "fd865c7d-8a32-4341-d3d7-e38d852bb32c"
      },
      "execution_count": 1,
      "outputs": [
        {
          "output_type": "display_data",
          "data": {
            "text/plain": [
              "<Figure size 640x480 with 1 Axes>"
            ],
            "image/png": "[encoded data removed]"
          },
          "metadata": {}
        },
        {
          "output_type": "stream",
          "name": "stdout",
          "text": [
            "Mean Squared Error: 79.76\n"
          ]
        }
      ]
    }
  ]
}